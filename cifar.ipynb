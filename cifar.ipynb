{
  "nbformat": 4,
  "nbformat_minor": 0,
  "metadata": {
    "colab": {
      "name": "cifar.ipynb",
      "provenance": []
    },
    "kernelspec": {
      "name": "python3",
      "display_name": "Python 3"
    },
    "accelerator": "GPU"
  },
  "cells": [
    {
      "cell_type": "code",
      "metadata": {
        "id": "F2AvM6NaLj9V",
        "colab_type": "code",
        "colab": {}
      },
      "source": [
        "import pandas as pd\n",
        "import numpy as np\n",
        "import matplotlib.pyplot as mplot\n",
        "\n",
        "%matplotlib inline"
      ],
      "execution_count": 0,
      "outputs": []
    },
    {
      "cell_type": "code",
      "metadata": {
        "id": "Oixw3hlBT4PI",
        "colab_type": "code",
        "colab": {}
      },
      "source": [
        "from tensorflow.keras.datasets import cifar10"
      ],
      "execution_count": 0,
      "outputs": []
    },
    {
      "cell_type": "code",
      "metadata": {
        "id": "hqO1FvGoT8it",
        "colab_type": "code",
        "colab": {
          "base_uri": "https://localhost:8080/",
          "height": 50
        },
        "outputId": "41799249-4e33-4f3c-d587-a8512a056177"
      },
      "source": [
        "(X_train, y_train), (X_test, y_test) = cifar10.load_data()"
      ],
      "execution_count": 4,
      "outputs": [
        {
          "output_type": "stream",
          "text": [
            "Downloading data from https://www.cs.toronto.edu/~kriz/cifar-10-python.tar.gz\n",
            "170500096/170498071 [==============================] - 11s 0us/step\n"
          ],
          "name": "stdout"
        }
      ]
    },
    {
      "cell_type": "code",
      "metadata": {
        "id": "WEQFmiDtUB37",
        "colab_type": "code",
        "colab": {
          "base_uri": "https://localhost:8080/",
          "height": 34
        },
        "outputId": "f95240d2-ec84-4342-ec52-43b0179520a2"
      },
      "source": [
        "X_train.shape"
      ],
      "execution_count": 5,
      "outputs": [
        {
          "output_type": "execute_result",
          "data": {
            "text/plain": [
              "(50000, 32, 32, 3)"
            ]
          },
          "metadata": {
            "tags": []
          },
          "execution_count": 5
        }
      ]
    },
    {
      "cell_type": "code",
      "metadata": {
        "id": "aP_ak3JaUJao",
        "colab_type": "code",
        "colab": {
          "base_uri": "https://localhost:8080/",
          "height": 283
        },
        "outputId": "120861d2-aa75-4d79-e007-21909f891b54"
      },
      "source": [
        "mplot.imshow(X_train[100])"
      ],
      "execution_count": 6,
      "outputs": [
        {
          "output_type": "execute_result",
          "data": {
            "text/plain": [
              "<matplotlib.image.AxesImage at 0x7fca9db869e8>"
            ]
          },
          "metadata": {
            "tags": []
          },
          "execution_count": 6
        },
        {
          "output_type": "display_data",
          "data": {
            "image/png": "[encoded data removed]",
            "text/plain": [
              "<Figure size 432x288 with 1 Axes>"
            ]
          },
          "metadata": {
            "tags": [],
            "needs_background": "light"
          }
        }
      ]
    },
    {
      "cell_type": "code",
      "metadata": {
        "id": "G76z1B1nUNHw",
        "colab_type": "code",
        "colab": {}
      },
      "source": [
        "X_test = X_test/255\n",
        "X_train = X_train/255"
      ],
      "execution_count": 0,
      "outputs": []
    },
    {
      "cell_type": "code",
      "metadata": {
        "id": "eEl6SR3nUjyD",
        "colab_type": "code",
        "colab": {
          "base_uri": "https://localhost:8080/",
          "height": 34
        },
        "outputId": "35285779-b246-4403-c31f-541075170bf6"
      },
      "source": [
        "X_test.max()"
      ],
      "execution_count": 8,
      "outputs": [
        {
          "output_type": "execute_result",
          "data": {
            "text/plain": [
              "1.0"
            ]
          },
          "metadata": {
            "tags": []
          },
          "execution_count": 8
        }
      ]
    },
    {
      "cell_type": "code",
      "metadata": {
        "id": "uw_z1vgKUlGd",
        "colab_type": "code",
        "colab": {
          "base_uri": "https://localhost:8080/",
          "height": 34
        },
        "outputId": "dae22443-e137-4b16-ecdb-91cdd71f30ff"
      },
      "source": [
        "y_train[0]"
      ],
      "execution_count": 9,
      "outputs": [
        {
          "output_type": "execute_result",
          "data": {
            "text/plain": [
              "array([6], dtype=uint8)"
            ]
          },
          "metadata": {
            "tags": []
          },
          "execution_count": 9
        }
      ]
    },
    {
      "cell_type": "code",
      "metadata": {
        "id": "WT0BV-GgUqzc",
        "colab_type": "code",
        "colab": {}
      },
      "source": [
        "from tensorflow.keras.utils import to_categorical"
      ],
      "execution_count": 0,
      "outputs": []
    },
    {
      "cell_type": "code",
      "metadata": {
        "id": "UpAFqZifU5Op",
        "colab_type": "code",
        "colab": {}
      },
      "source": [
        "y_cat_train = to_categorical(y_train, num_classes=10)\n",
        "y_cat_test = to_categorical(y_test, num_classes=10)"
      ],
      "execution_count": 0,
      "outputs": []
    },
    {
      "cell_type": "code",
      "metadata": {
        "id": "UU3YDug8VC63",
        "colab_type": "code",
        "colab": {
          "base_uri": "https://localhost:8080/",
          "height": 34
        },
        "outputId": "7681dd50-44bc-4fb0-f4d0-128365ff67fb"
      },
      "source": [
        "y_cat_train[0]"
      ],
      "execution_count": 12,
      "outputs": [
        {
          "output_type": "execute_result",
          "data": {
            "text/plain": [
              "array([0., 0., 0., 0., 0., 0., 1., 0., 0., 0.], dtype=float32)"
            ]
          },
          "metadata": {
            "tags": []
          },
          "execution_count": 12
        }
      ]
    },
    {
      "cell_type": "code",
      "metadata": {
        "id": "reTD9-ySVQTT",
        "colab_type": "code",
        "colab": {}
      },
      "source": [
        "from tensorflow.keras.models import Sequential\n",
        "from tensorflow.keras.layers import Dense, Conv2D, MaxPool2D, Flatten, Dropout"
      ],
      "execution_count": 0,
      "outputs": []
    },
    {
      "cell_type": "code",
      "metadata": {
        "id": "SqfPMUM0ViLF",
        "colab_type": "code",
        "colab": {}
      },
      "source": [
        "model = Sequential()\n",
        "#Convolutional Layer\n",
        "model.add(Conv2D(filters=32, kernel_size=(5,5), input_shape=(32,32,3), activation='relu'))\n",
        "#Pooling Layer\n",
        "model.add(MaxPool2D(pool_size=(2,2), strides=None, padding='valid'))\n",
        "#Convolutional Layer\n",
        "model.add(Conv2D(filters=64, kernel_size=(5,5), activation='relu'))\n",
        "#Pooling Layer\n",
        "model.add(MaxPool2D(pool_size=(2,2), strides=(1,1)))\n",
        "\n",
        "#Flattening Layer\n",
        "model.add(Flatten())\n",
        "\n",
        "#Fully Connected Layers\n",
        "model.add(Dense(256, activation='relu'))\n",
        "model.add(Dropout(rate=0.3))\n",
        "model.add(Dense(256, activation='relu'))\n",
        "model.add(Dropout(rate=0.3))\n",
        "model.add(Dense(10, activation='softmax'))\n",
        "\n",
        "#compile the network\n",
        "model.compile(optimizer='adam', loss='categorical_crossentropy', metrics=['accuracy'])\n"
      ],
      "execution_count": 0,
      "outputs": []
    },
    {
      "cell_type": "code",
      "metadata": {
        "id": "btnLJB9DWtFH",
        "colab_type": "code",
        "colab": {
          "base_uri": "https://localhost:8080/",
          "height": 487
        },
        "outputId": "4f2545e0-3590-4367-e09d-256402d7e13e"
      },
      "source": [
        "model.summary()"
      ],
      "execution_count": 26,
      "outputs": [
        {
          "output_type": "stream",
          "text": [
            "Model: \"sequential_1\"\n",
            "_________________________________________________________________\n",
            "Layer (type)                 Output Shape              Param #   \n",
            "=================================================================\n",
            "conv2d_2 (Conv2D)            (None, 28, 28, 32)        2432      \n",
            "_________________________________________________________________\n",
            "max_pooling2d_2 (MaxPooling2 (None, 14, 14, 32)        0         \n",
            "_________________________________________________________________\n",
            "conv2d_3 (Conv2D)            (None, 10, 10, 32)        25632     \n",
            "_________________________________________________________________\n",
            "max_pooling2d_3 (MaxPooling2 (None, 9, 9, 32)          0         \n",
            "_________________________________________________________________\n",
            "flatten_1 (Flatten)          (None, 2592)              0         \n",
            "_________________________________________________________________\n",
            "dense_3 (Dense)              (None, 256)               663808    \n",
            "_________________________________________________________________\n",
            "dropout (Dropout)            (None, 256)               0         \n",
            "_________________________________________________________________\n",
            "dense_4 (Dense)              (None, 256)               65792     \n",
            "_________________________________________________________________\n",
            "dropout_1 (Dropout)          (None, 256)               0         \n",
            "_________________________________________________________________\n",
            "dense_5 (Dense)              (None, 10)                2570      \n",
            "=================================================================\n",
            "Total params: 760,234\n",
            "Trainable params: 760,234\n",
            "Non-trainable params: 0\n",
            "_________________________________________________________________\n"
          ],
          "name": "stdout"
        }
      ]
    },
    {
      "cell_type": "code",
      "metadata": {
        "id": "bMMbZSv5XVu3",
        "colab_type": "code",
        "colab": {}
      },
      "source": [
        "from tensorflow.keras.callbacks import EarlyStopping"
      ],
      "execution_count": 0,
      "outputs": []
    },
    {
      "cell_type": "code",
      "metadata": {
        "id": "PdoJ3yfqXhGk",
        "colab_type": "code",
        "colab": {}
      },
      "source": [
        "early_stop = EarlyStopping(monitor='val_loss', patience=1)\n"
      ],
      "execution_count": 0,
      "outputs": []
    },
    {
      "cell_type": "code",
      "metadata": {
        "id": "hrKj8YOTXykM",
        "colab_type": "code",
        "colab": {
          "base_uri": "https://localhost:8080/",
          "height": 706
        },
        "outputId": "5a479914-6d43-43c1-ab7b-8b6a22b23dff"
      },
      "source": [
        "model.fit(X_train, y_cat_train, validation_data=(X_test, y_cat_test), epochs=20, batch_size=256, validation_batch_size=256)"
      ],
      "execution_count": 76,
      "outputs": [
        {
          "output_type": "stream",
          "text": [
            "Epoch 1/20\n",
            "196/196 [==============================] - 4s 21ms/step - loss: 1.7399 - accuracy: 0.3526 - val_loss: 1.4651 - val_accuracy: 0.4568\n",
            "Epoch 2/20\n",
            "196/196 [==============================] - 4s 20ms/step - loss: 1.3658 - accuracy: 0.5065 - val_loss: 1.3004 - val_accuracy: 0.5323\n",
            "Epoch 3/20\n",
            "196/196 [==============================] - 4s 20ms/step - loss: 1.2262 - accuracy: 0.5632 - val_loss: 1.2030 - val_accuracy: 0.5835\n",
            "Epoch 4/20\n",
            "196/196 [==============================] - 4s 21ms/step - loss: 1.1223 - accuracy: 0.5998 - val_loss: 1.0988 - val_accuracy: 0.6170\n",
            "Epoch 5/20\n",
            "196/196 [==============================] - 4s 21ms/step - loss: 1.0451 - accuracy: 0.6294 - val_loss: 1.0133 - val_accuracy: 0.6468\n",
            "Epoch 6/20\n",
            "196/196 [==============================] - 4s 20ms/step - loss: 0.9888 - accuracy: 0.6514 - val_loss: 1.0329 - val_accuracy: 0.6449\n",
            "Epoch 7/20\n",
            "196/196 [==============================] - 4s 20ms/step - loss: 0.9391 - accuracy: 0.6702 - val_loss: 1.0016 - val_accuracy: 0.6543\n",
            "Epoch 8/20\n",
            "196/196 [==============================] - 4s 20ms/step - loss: 0.8965 - accuracy: 0.6835 - val_loss: 0.9573 - val_accuracy: 0.6692\n",
            "Epoch 9/20\n",
            "196/196 [==============================] - 4s 20ms/step - loss: 0.8657 - accuracy: 0.6933 - val_loss: 0.9691 - val_accuracy: 0.6651\n",
            "Epoch 10/20\n",
            "196/196 [==============================] - 4s 20ms/step - loss: 0.8119 - accuracy: 0.7146 - val_loss: 0.9552 - val_accuracy: 0.6752\n",
            "Epoch 11/20\n",
            "196/196 [==============================] - 4s 20ms/step - loss: 0.7777 - accuracy: 0.7257 - val_loss: 0.9101 - val_accuracy: 0.6884\n",
            "Epoch 12/20\n",
            "196/196 [==============================] - 4s 20ms/step - loss: 0.7506 - accuracy: 0.7348 - val_loss: 0.9333 - val_accuracy: 0.6887\n",
            "Epoch 13/20\n",
            "196/196 [==============================] - 4s 20ms/step - loss: 0.7134 - accuracy: 0.7488 - val_loss: 0.9784 - val_accuracy: 0.6753\n",
            "Epoch 14/20\n",
            "196/196 [==============================] - 4s 20ms/step - loss: 0.6861 - accuracy: 0.7549 - val_loss: 0.9329 - val_accuracy: 0.6865\n",
            "Epoch 15/20\n",
            "196/196 [==============================] - 4s 20ms/step - loss: 0.6583 - accuracy: 0.7666 - val_loss: 0.9328 - val_accuracy: 0.6905\n",
            "Epoch 16/20\n",
            "196/196 [==============================] - 4s 20ms/step - loss: 0.6356 - accuracy: 0.7719 - val_loss: 0.9269 - val_accuracy: 0.6951\n",
            "Epoch 17/20\n",
            "196/196 [==============================] - 4s 20ms/step - loss: 0.6256 - accuracy: 0.7783 - val_loss: 0.9498 - val_accuracy: 0.6931\n",
            "Epoch 18/20\n",
            "196/196 [==============================] - 4s 20ms/step - loss: 0.5842 - accuracy: 0.7912 - val_loss: 0.9614 - val_accuracy: 0.6964\n",
            "Epoch 19/20\n",
            "196/196 [==============================] - 4s 20ms/step - loss: 0.5523 - accuracy: 0.8013 - val_loss: 0.9693 - val_accuracy: 0.6980\n",
            "Epoch 20/20\n",
            "196/196 [==============================] - 4s 20ms/step - loss: 0.5369 - accuracy: 0.8084 - val_loss: 0.9859 - val_accuracy: 0.6934\n"
          ],
          "name": "stdout"
        },
        {
          "output_type": "execute_result",
          "data": {
            "text/plain": [
              "<tensorflow.python.keras.callbacks.History at 0x7fca32a45da0>"
            ]
          },
          "metadata": {
            "tags": []
          },
          "execution_count": 76
        }
      ]
    },
    {
      "cell_type": "code",
      "metadata": {
        "id": "KiMqS_U5YF_u",
        "colab_type": "code",
        "colab": {
          "base_uri": "https://localhost:8080/",
          "height": 639
        },
        "outputId": "4d32d980-bbe3-410f-a081-0befe6212514"
      },
      "source": [
        "history = pd.DataFrame(model.history.history)\n",
        "history"
      ],
      "execution_count": 77,
      "outputs": [
        {
          "output_type": "execute_result",
          "data": {
            "text/html": [
              "<div>\n",
              "<style scoped>\n",
              "    .dataframe tbody tr th:only-of-type {\n",
              "        vertical-align: middle;\n",
              "    }\n",
              "\n",
              "    .dataframe tbody tr th {\n",
              "        vertical-align: top;\n",
              "    }\n",
              "\n",
              "    .dataframe thead th {\n",
              "        text-align: right;\n",
              "    }\n",
              "</style>\n",
              "<table border=\"1\" class=\"dataframe\">\n",
              "  <thead>\n",
              "    <tr style=\"text-align: right;\">\n",
              "      <th></th>\n",
              "      <th>loss</th>\n",
              "      <th>accuracy</th>\n",
              "      <th>val_loss</th>\n",
              "      <th>val_accuracy</th>\n",
              "    </tr>\n",
              "  </thead>\n",
              "  <tbody>\n",
              "    <tr>\n",
              "      <th>0</th>\n",
              "      <td>1.739853</td>\n",
              "      <td>0.35258</td>\n",
              "      <td>1.465137</td>\n",
              "      <td>0.4568</td>\n",
              "    </tr>\n",
              "    <tr>\n",
              "      <th>1</th>\n",
              "      <td>1.365813</td>\n",
              "      <td>0.50648</td>\n",
              "      <td>1.300444</td>\n",
              "      <td>0.5323</td>\n",
              "    </tr>\n",
              "    <tr>\n",
              "      <th>2</th>\n",
              "      <td>1.226246</td>\n",
              "      <td>0.56316</td>\n",
              "      <td>1.202975</td>\n",
              "      <td>0.5835</td>\n",
              "    </tr>\n",
              "    <tr>\n",
              "      <th>3</th>\n",
              "      <td>1.122347</td>\n",
              "      <td>0.59978</td>\n",
              "      <td>1.098787</td>\n",
              "      <td>0.6170</td>\n",
              "    </tr>\n",
              "    <tr>\n",
              "      <th>4</th>\n",
              "      <td>1.045110</td>\n",
              "      <td>0.62944</td>\n",
              "      <td>1.013304</td>\n",
              "      <td>0.6468</td>\n",
              "    </tr>\n",
              "    <tr>\n",
              "      <th>5</th>\n",
              "      <td>0.988750</td>\n",
              "      <td>0.65140</td>\n",
              "      <td>1.032899</td>\n",
              "      <td>0.6449</td>\n",
              "    </tr>\n",
              "    <tr>\n",
              "      <th>6</th>\n",
              "      <td>0.939059</td>\n",
              "      <td>0.67022</td>\n",
              "      <td>1.001572</td>\n",
              "      <td>0.6543</td>\n",
              "    </tr>\n",
              "    <tr>\n",
              "      <th>7</th>\n",
              "      <td>0.896493</td>\n",
              "      <td>0.68350</td>\n",
              "      <td>0.957318</td>\n",
              "      <td>0.6692</td>\n",
              "    </tr>\n",
              "    <tr>\n",
              "      <th>8</th>\n",
              "      <td>0.865667</td>\n",
              "      <td>0.69328</td>\n",
              "      <td>0.969116</td>\n",
              "      <td>0.6651</td>\n",
              "    </tr>\n",
              "    <tr>\n",
              "      <th>9</th>\n",
              "      <td>0.811862</td>\n",
              "      <td>0.71458</td>\n",
              "      <td>0.955245</td>\n",
              "      <td>0.6752</td>\n",
              "    </tr>\n",
              "    <tr>\n",
              "      <th>10</th>\n",
              "      <td>0.777708</td>\n",
              "      <td>0.72572</td>\n",
              "      <td>0.910100</td>\n",
              "      <td>0.6884</td>\n",
              "    </tr>\n",
              "    <tr>\n",
              "      <th>11</th>\n",
              "      <td>0.750621</td>\n",
              "      <td>0.73482</td>\n",
              "      <td>0.933255</td>\n",
              "      <td>0.6887</td>\n",
              "    </tr>\n",
              "    <tr>\n",
              "      <th>12</th>\n",
              "      <td>0.713435</td>\n",
              "      <td>0.74876</td>\n",
              "      <td>0.978417</td>\n",
              "      <td>0.6753</td>\n",
              "    </tr>\n",
              "    <tr>\n",
              "      <th>13</th>\n",
              "      <td>0.686149</td>\n",
              "      <td>0.75490</td>\n",
              "      <td>0.932887</td>\n",
              "      <td>0.6865</td>\n",
              "    </tr>\n",
              "    <tr>\n",
              "      <th>14</th>\n",
              "      <td>0.658348</td>\n",
              "      <td>0.76656</td>\n",
              "      <td>0.932806</td>\n",
              "      <td>0.6905</td>\n",
              "    </tr>\n",
              "    <tr>\n",
              "      <th>15</th>\n",
              "      <td>0.635584</td>\n",
              "      <td>0.77190</td>\n",
              "      <td>0.926865</td>\n",
              "      <td>0.6951</td>\n",
              "    </tr>\n",
              "    <tr>\n",
              "      <th>16</th>\n",
              "      <td>0.625589</td>\n",
              "      <td>0.77828</td>\n",
              "      <td>0.949794</td>\n",
              "      <td>0.6931</td>\n",
              "    </tr>\n",
              "    <tr>\n",
              "      <th>17</th>\n",
              "      <td>0.584245</td>\n",
              "      <td>0.79122</td>\n",
              "      <td>0.961359</td>\n",
              "      <td>0.6964</td>\n",
              "    </tr>\n",
              "    <tr>\n",
              "      <th>18</th>\n",
              "      <td>0.552348</td>\n",
              "      <td>0.80134</td>\n",
              "      <td>0.969343</td>\n",
              "      <td>0.6980</td>\n",
              "    </tr>\n",
              "    <tr>\n",
              "      <th>19</th>\n",
              "      <td>0.536858</td>\n",
              "      <td>0.80838</td>\n",
              "      <td>0.985946</td>\n",
              "      <td>0.6934</td>\n",
              "    </tr>\n",
              "  </tbody>\n",
              "</table>\n",
              "</div>"
            ],
            "text/plain": [
              "        loss  accuracy  val_loss  val_accuracy\n",
              "0   1.739853   0.35258  1.465137        0.4568\n",
              "1   1.365813   0.50648  1.300444        0.5323\n",
              "2   1.226246   0.56316  1.202975        0.5835\n",
              "3   1.122347   0.59978  1.098787        0.6170\n",
              "4   1.045110   0.62944  1.013304        0.6468\n",
              "5   0.988750   0.65140  1.032899        0.6449\n",
              "6   0.939059   0.67022  1.001572        0.6543\n",
              "7   0.896493   0.68350  0.957318        0.6692\n",
              "8   0.865667   0.69328  0.969116        0.6651\n",
              "9   0.811862   0.71458  0.955245        0.6752\n",
              "10  0.777708   0.72572  0.910100        0.6884\n",
              "11  0.750621   0.73482  0.933255        0.6887\n",
              "12  0.713435   0.74876  0.978417        0.6753\n",
              "13  0.686149   0.75490  0.932887        0.6865\n",
              "14  0.658348   0.76656  0.932806        0.6905\n",
              "15  0.635584   0.77190  0.926865        0.6951\n",
              "16  0.625589   0.77828  0.949794        0.6931\n",
              "17  0.584245   0.79122  0.961359        0.6964\n",
              "18  0.552348   0.80134  0.969343        0.6980\n",
              "19  0.536858   0.80838  0.985946        0.6934"
            ]
          },
          "metadata": {
            "tags": []
          },
          "execution_count": 77
        }
      ]
    },
    {
      "cell_type": "code",
      "metadata": {
        "id": "OqXdPbC2YoM_",
        "colab_type": "code",
        "colab": {}
      },
      "source": [
        "loss = history[['loss', 'val_loss']]\n",
        "accur = history[['accuracy', 'val_accuracy']]"
      ],
      "execution_count": 0,
      "outputs": []
    },
    {
      "cell_type": "code",
      "metadata": {
        "id": "PMyDtm3LY1i4",
        "colab_type": "code",
        "colab": {
          "base_uri": "https://localhost:8080/",
          "height": 282
        },
        "outputId": "beb83894-6f97-459f-ab4f-501778dfa67a"
      },
      "source": [
        "loss.plot()"
      ],
      "execution_count": 32,
      "outputs": [
        {
          "output_type": "execute_result",
          "data": {
            "text/plain": [
              "<matplotlib.axes._subplots.AxesSubplot at 0x7fca426a7e80>"
            ]
          },
          "metadata": {
            "tags": []
          },
          "execution_count": 32
        },
        {
          "output_type": "display_data",
          "data": {
            "image/png": "[encoded data removed]",
            "text/plain": [
              "<Figure size 432x288 with 1 Axes>"
            ]
          },
          "metadata": {
            "tags": [],
            "needs_background": "light"
          }
        }
      ]
    },
    {
      "cell_type": "code",
      "metadata": {
        "id": "_L5CTjB8Y2y6",
        "colab_type": "code",
        "colab": {
          "base_uri": "https://localhost:8080/",
          "height": 282
        },
        "outputId": "c5d80ab4-2691-44d2-b901-a99ba6f58d8c"
      },
      "source": [
        "accur.plot()"
      ],
      "execution_count": 33,
      "outputs": [
        {
          "output_type": "execute_result",
          "data": {
            "text/plain": [
              "<matplotlib.axes._subplots.AxesSubplot at 0x7fca42686ef0>"
            ]
          },
          "metadata": {
            "tags": []
          },
          "execution_count": 33
        },
        {
          "output_type": "display_data",
          "data": {
            "image/png": "[encoded data removed]",
            "text/plain": [
              "<Figure size 432x288 with 1 Axes>"
            ]
          },
          "metadata": {
            "tags": [],
            "needs_background": "light"
          }
        }
      ]
    },
    {
      "cell_type": "code",
      "metadata": {
        "id": "c9k96p3yZ6dv",
        "colab_type": "code",
        "colab": {
          "base_uri": "https://localhost:8080/",
          "height": 50
        },
        "outputId": "37a5f85a-05b0-45eb-9de1-110f75a7fd11"
      },
      "source": [
        "model.evaluate(X_test, y_cat_test, batch_size=256)"
      ],
      "execution_count": 34,
      "outputs": [
        {
          "output_type": "stream",
          "text": [
            "40/40 [==============================] - 0s 9ms/step - loss: 0.9017 - accuracy: 0.6960\n"
          ],
          "name": "stdout"
        },
        {
          "output_type": "execute_result",
          "data": {
            "text/plain": [
              "[0.9016666412353516, 0.6959999799728394]"
            ]
          },
          "metadata": {
            "tags": []
          },
          "execution_count": 34
        }
      ]
    },
    {
      "cell_type": "code",
      "metadata": {
        "id": "tqrYLmpcaFtf",
        "colab_type": "code",
        "colab": {}
      },
      "source": [
        "from sklearn.metrics import classification_report, confusion_matrix"
      ],
      "execution_count": 0,
      "outputs": []
    },
    {
      "cell_type": "code",
      "metadata": {
        "id": "qXZDGtuBaQm6",
        "colab_type": "code",
        "colab": {
          "base_uri": "https://localhost:8080/",
          "height": 87
        },
        "outputId": "28f5a259-0945-463e-820c-580fc13470ce"
      },
      "source": [
        "predictions = model.predict_classes(X_test)"
      ],
      "execution_count": 36,
      "outputs": [
        {
          "output_type": "stream",
          "text": [
            "WARNING:tensorflow:From <ipython-input-36-bc83193b8b59>:1: Sequential.predict_classes (from tensorflow.python.keras.engine.sequential) is deprecated and will be removed after 2021-01-01.\n",
            "Instructions for updating:\n",
            "Please use instead:* `np.argmax(model.predict(x), axis=-1)`,   if your model does multi-class classification   (e.g. if it uses a `softmax` last-layer activation).* `(model.predict(x) > 0.5).astype(\"int32\")`,   if your model does binary classification   (e.g. if it uses a `sigmoid` last-layer activation).\n"
          ],
          "name": "stdout"
        }
      ]
    },
    {
      "cell_type": "code",
      "metadata": {
        "id": "lbBsXQGTaT-_",
        "colab_type": "code",
        "colab": {
          "base_uri": "https://localhost:8080/",
          "height": 302
        },
        "outputId": "7c3ab03e-c028-4e91-fb94-6852375d5c61"
      },
      "source": [
        "print(classification_report(y_test, predictions))"
      ],
      "execution_count": 38,
      "outputs": [
        {
          "output_type": "stream",
          "text": [
            "              precision    recall  f1-score   support\n",
            "\n",
            "           0       0.70      0.80      0.75      1000\n",
            "           1       0.79      0.82      0.81      1000\n",
            "           2       0.61      0.57      0.59      1000\n",
            "           3       0.49      0.50      0.50      1000\n",
            "           4       0.64      0.65      0.64      1000\n",
            "           5       0.63      0.54      0.58      1000\n",
            "           6       0.70      0.82      0.76      1000\n",
            "           7       0.79      0.74      0.77      1000\n",
            "           8       0.77      0.82      0.79      1000\n",
            "           9       0.84      0.70      0.76      1000\n",
            "\n",
            "    accuracy                           0.70     10000\n",
            "   macro avg       0.70      0.70      0.69     10000\n",
            "weighted avg       0.70      0.70      0.69     10000\n",
            "\n"
          ],
          "name": "stdout"
        }
      ]
    },
    {
      "cell_type": "code",
      "metadata": {
        "id": "60-GRGqCai0o",
        "colab_type": "code",
        "colab": {
          "base_uri": "https://localhost:8080/",
          "height": 500
        },
        "outputId": "a731cb1b-cbab-49b8-b247-0a53e1fa022c"
      },
      "source": [
        "import seaborn as sns\n",
        "mplot.figure(figsize=(10,8))\n",
        "mapping_dict = {0:'airplane',\n",
        "                1:'automobile',\n",
        "                2:'bird',\n",
        "                3:'cat',\n",
        "                4:'deer',\n",
        "                5:'dog',\n",
        "                6:'frog',\n",
        "                7:'horse',\n",
        "                8:'ship',\n",
        "                9:'truck',\n",
        "                }\n",
        "sns.heatmap(confusion_matrix(y_test, predictions))"
      ],
      "execution_count": 67,
      "outputs": [
        {
          "output_type": "execute_result",
          "data": {
            "text/plain": [
              "<matplotlib.axes._subplots.AxesSubplot at 0x7fca32d43a90>"
            ]
          },
          "metadata": {
            "tags": []
          },
          "execution_count": 67
        },
        {
          "output_type": "display_data",
          "data": {
            "image/png": "[encoded data removed]",
            "text/plain": [
              "<Figure size 720x576 with 2 Axes>"
            ]
          },
          "metadata": {
            "tags": [],
            "needs_background": "light"
          }
        }
      ]
    },
    {
      "cell_type": "code",
      "metadata": {
        "id": "RymV4GE5bAZI",
        "colab_type": "code",
        "colab": {
          "base_uri": "https://localhost:8080/",
          "height": 283
        },
        "outputId": "807467fb-5d3f-495a-fdd3-f1bd7ea0c81c"
      },
      "source": [
        "num = np.random.randint(10000)\n",
        "my_img = X_test[num]\n",
        "my_img.shape\n",
        "mplot.imshow(my_img)"
      ],
      "execution_count": 70,
      "outputs": [
        {
          "output_type": "execute_result",
          "data": {
            "text/plain": [
              "<matplotlib.image.AxesImage at 0x7fca32ad8d30>"
            ]
          },
          "metadata": {
            "tags": []
          },
          "execution_count": 70
        },
        {
          "output_type": "display_data",
          "data": {
            "image/png": "[encoded data removed]",
            "text/plain": [
              "<Figure size 432x288 with 1 Axes>"
            ]
          },
          "metadata": {
            "tags": [],
            "needs_background": "light"
          }
        }
      ]
    },
    {
      "cell_type": "code",
      "metadata": {
        "id": "fvfama32bUg2",
        "colab_type": "code",
        "colab": {
          "base_uri": "https://localhost:8080/",
          "height": 34
        },
        "outputId": "4de98ae8-8a65-427d-d158-48aa722b0673"
      },
      "source": [
        "my_img = my_img.reshape(1,32,32,3)\n",
        "print(mapping_dict[model.predict_classes(my_img)[0]])"
      ],
      "execution_count": 71,
      "outputs": [
        {
          "output_type": "stream",
          "text": [
            "dog\n"
          ],
          "name": "stdout"
        }
      ]
    },
    {
      "cell_type": "code",
      "metadata": {
        "id": "MYRZaJhtbwFJ",
        "colab_type": "code",
        "colab": {}
      },
      "source": [
        "model2 = Sequential()\n",
        "model2.add(Conv2D(filters=96, kernel_size=(5,5), padding='same', input_shape=(32,32,3), activation='relu'))\n",
        "model2.add(MaxPool2D(pool_size=(2,2)))\n",
        "model2.add(Conv2D(filters=256, kernel_size=(3,3), padding='same', activation='relu'))\n",
        "model2.add(MaxPool2D(pool_size=(2,2)))\n",
        "model2.add(Conv2D(filters=384, kernel_size=(3,3), padding='same', activation='relu'))\n",
        "model2.add(MaxPool2D(pool_size=(2,2)))\n",
        "model2.add(Flatten())\n",
        "model2.add(Dense(3072, activation='relu'))\n",
        "model2.add(Dropout(rate=0.3))\n",
        "model2.add(Dense(1536, activation='relu'))\n",
        "model2.add(Dropout(rate=0.3))\n",
        "model2.add(Dense(1536, activation='relu'))\n",
        "model2.add(Dropout(rate=0.3))\n",
        "model2.add(Dense(10, activation='softmax'))\n",
        "\n",
        "model2.compile(optimizer='adam', loss='categorical_crossentropy', metrics=['accuracy'])"
      ],
      "execution_count": 0,
      "outputs": []
    },
    {
      "cell_type": "code",
      "metadata": {
        "id": "qIyo2WwahM2q",
        "colab_type": "code",
        "colab": {}
      },
      "source": [
        "early_stop2 = EarlyStopping(monitor='val_loss', patience=2)"
      ],
      "execution_count": 0,
      "outputs": []
    },
    {
      "cell_type": "code",
      "metadata": {
        "id": "Srdc03_HcOAi",
        "colab_type": "code",
        "colab": {
          "base_uri": "https://localhost:8080/",
          "height": 302
        },
        "outputId": "6bb4d398-3ffd-4e17-d5e6-6fd06cd7dc1a"
      },
      "source": [
        "model2.fit(X_train, y_cat_train, validation_data=(X_test, y_cat_test), epochs=20, batch_size=256, validation_batch_size=256, callbacks=[early_stop2])"
      ],
      "execution_count": 85,
      "outputs": [
        {
          "output_type": "stream",
          "text": [
            "Epoch 1/20\n",
            "196/196 [==============================] - 21s 108ms/step - loss: 1.7351 - accuracy: 0.3442 - val_loss: 1.4359 - val_accuracy: 0.4828\n",
            "Epoch 2/20\n",
            "196/196 [==============================] - 21s 107ms/step - loss: 1.1779 - accuracy: 0.5758 - val_loss: 1.0460 - val_accuracy: 0.6268\n",
            "Epoch 3/20\n",
            "196/196 [==============================] - 21s 107ms/step - loss: 0.9381 - accuracy: 0.6708 - val_loss: 0.9450 - val_accuracy: 0.6719\n",
            "Epoch 4/20\n",
            "196/196 [==============================] - 21s 107ms/step - loss: 0.7724 - accuracy: 0.7303 - val_loss: 0.8339 - val_accuracy: 0.7045\n",
            "Epoch 5/20\n",
            "196/196 [==============================] - 21s 107ms/step - loss: 0.6573 - accuracy: 0.7714 - val_loss: 0.8989 - val_accuracy: 0.7049\n",
            "Epoch 6/20\n",
            "196/196 [==============================] - 21s 107ms/step - loss: 0.5575 - accuracy: 0.8071 - val_loss: 0.7419 - val_accuracy: 0.7477\n",
            "Epoch 7/20\n",
            "196/196 [==============================] - 21s 107ms/step - loss: 0.4465 - accuracy: 0.8442 - val_loss: 0.8244 - val_accuracy: 0.7419\n",
            "Epoch 8/20\n",
            "196/196 [==============================] - 21s 107ms/step - loss: 0.3664 - accuracy: 0.8730 - val_loss: 0.8439 - val_accuracy: 0.7431\n"
          ],
          "name": "stdout"
        },
        {
          "output_type": "execute_result",
          "data": {
            "text/plain": [
              "<tensorflow.python.keras.callbacks.History at 0x7fca306b3d30>"
            ]
          },
          "metadata": {
            "tags": []
          },
          "execution_count": 85
        }
      ]
    },
    {
      "cell_type": "code",
      "metadata": {
        "id": "vL0EBpbOcTbC",
        "colab_type": "code",
        "colab": {
          "base_uri": "https://localhost:8080/",
          "height": 282
        },
        "outputId": "e3c393ce-efbd-44e5-b05e-79e15d88898f"
      },
      "source": [
        "history = pd.DataFrame(model2.history.history)\n",
        "loss = history[['loss', 'val_loss']]\n",
        "accur = history[['accuracy', 'val_accuracy']]\n",
        "accur.plot()"
      ],
      "execution_count": 88,
      "outputs": [
        {
          "output_type": "execute_result",
          "data": {
            "text/plain": [
              "<matplotlib.axes._subplots.AxesSubplot at 0x7fca32b513c8>"
            ]
          },
          "metadata": {
            "tags": []
          },
          "execution_count": 88
        },
        {
          "output_type": "display_data",
          "data": {
            "image/png": "[encoded data removed]",
            "text/plain": [
              "<Figure size 432x288 with 1 Axes>"
            ]
          },
          "metadata": {
            "tags": [],
            "needs_background": "light"
          }
        }
      ]
    },
    {
      "cell_type": "code",
      "metadata": {
        "id": "AcKUbSEXjN93",
        "colab_type": "code",
        "colab": {
          "base_uri": "https://localhost:8080/",
          "height": 622
        },
        "outputId": "03e91ae6-0af9-4a70-d034-89500cd9683b"
      },
      "source": [
        "model2.summary()"
      ],
      "execution_count": 89,
      "outputs": [
        {
          "output_type": "stream",
          "text": [
            "Model: \"sequential_6\"\n",
            "_________________________________________________________________\n",
            "Layer (type)                 Output Shape              Param #   \n",
            "=================================================================\n",
            "conv2d_13 (Conv2D)           (None, 32, 32, 96)        7296      \n",
            "_________________________________________________________________\n",
            "max_pooling2d_13 (MaxPooling (None, 16, 16, 96)        0         \n",
            "_________________________________________________________________\n",
            "conv2d_14 (Conv2D)           (None, 16, 16, 256)       221440    \n",
            "_________________________________________________________________\n",
            "max_pooling2d_14 (MaxPooling (None, 8, 8, 256)         0         \n",
            "_________________________________________________________________\n",
            "conv2d_15 (Conv2D)           (None, 8, 8, 384)         885120    \n",
            "_________________________________________________________________\n",
            "max_pooling2d_15 (MaxPooling (None, 4, 4, 384)         0         \n",
            "_________________________________________________________________\n",
            "flatten_5 (Flatten)          (None, 6144)              0         \n",
            "_________________________________________________________________\n",
            "dense_16 (Dense)             (None, 3072)              18877440  \n",
            "_________________________________________________________________\n",
            "dropout_6 (Dropout)          (None, 3072)              0         \n",
            "_________________________________________________________________\n",
            "dense_17 (Dense)             (None, 1536)              4720128   \n",
            "_________________________________________________________________\n",
            "dropout_7 (Dropout)          (None, 1536)              0         \n",
            "_________________________________________________________________\n",
            "dense_18 (Dense)             (None, 1536)              2360832   \n",
            "_________________________________________________________________\n",
            "dropout_8 (Dropout)          (None, 1536)              0         \n",
            "_________________________________________________________________\n",
            "dense_19 (Dense)             (None, 10)                15370     \n",
            "=================================================================\n",
            "Total params: 27,087,626\n",
            "Trainable params: 27,087,626\n",
            "Non-trainable params: 0\n",
            "_________________________________________________________________\n"
          ],
          "name": "stdout"
        }
      ]
    },
    {
      "cell_type": "code",
      "metadata": {
        "id": "n0Ly5DZHjWZ8",
        "colab_type": "code",
        "colab": {}
      },
      "source": [
        "predictions2 = model.predict_classes(X_test)"
      ],
      "execution_count": 0,
      "outputs": []
    },
    {
      "cell_type": "code",
      "metadata": {
        "id": "q2_dUzX8jnTN",
        "colab_type": "code",
        "colab": {
          "base_uri": "https://localhost:8080/",
          "height": 50
        },
        "outputId": "bea284d0-2bc8-40e4-ad2d-44b8651b54d4"
      },
      "source": [
        "model.evaluate(X_test, y_cat_test)"
      ],
      "execution_count": 92,
      "outputs": [
        {
          "output_type": "stream",
          "text": [
            "313/313 [==============================] - 1s 4ms/step - loss: 0.9806 - accuracy: 0.6934\n"
          ],
          "name": "stdout"
        },
        {
          "output_type": "execute_result",
          "data": {
            "text/plain": [
              "[0.9806085824966431, 0.6934000253677368]"
            ]
          },
          "metadata": {
            "tags": []
          },
          "execution_count": 92
        }
      ]
    },
    {
      "cell_type": "code",
      "metadata": {
        "id": "0soC05hMjvoI",
        "colab_type": "code",
        "colab": {
          "base_uri": "https://localhost:8080/",
          "height": 302
        },
        "outputId": "777b5a57-0de9-40e7-dcb1-d171f172a6cc"
      },
      "source": [
        "print(classification_report(y_test, predictions2))"
      ],
      "execution_count": 99,
      "outputs": [
        {
          "output_type": "stream",
          "text": [
            "              precision    recall  f1-score   support\n",
            "\n",
            "           0       0.71      0.75      0.73      1000\n",
            "           1       0.73      0.88      0.80      1000\n",
            "           2       0.60      0.58      0.59      1000\n",
            "           3       0.55      0.40      0.46      1000\n",
            "           4       0.65      0.64      0.65      1000\n",
            "           5       0.60      0.60      0.60      1000\n",
            "           6       0.74      0.77      0.76      1000\n",
            "           7       0.76      0.73      0.74      1000\n",
            "           8       0.79      0.80      0.79      1000\n",
            "           9       0.74      0.78      0.76      1000\n",
            "\n",
            "    accuracy                           0.69     10000\n",
            "   macro avg       0.69      0.69      0.69     10000\n",
            "weighted avg       0.69      0.69      0.69     10000\n",
            "\n"
          ],
          "name": "stdout"
        }
      ]
    },
    {
      "cell_type": "code",
      "metadata": {
        "id": "hBR1VqOskG9h",
        "colab_type": "code",
        "colab": {
          "base_uri": "https://localhost:8080/",
          "height": 283
        },
        "outputId": "0052d5c2-f54b-4212-cb93-2229c07f5aa1"
      },
      "source": [
        "num = np.random.randint(10000)\n",
        "my_img = X_test[num]\n",
        "my_img.shape\n",
        "mplot.imshow(my_img)"
      ],
      "execution_count": 100,
      "outputs": [
        {
          "output_type": "execute_result",
          "data": {
            "text/plain": [
              "<matplotlib.image.AxesImage at 0x7fca302224e0>"
            ]
          },
          "metadata": {
            "tags": []
          },
          "execution_count": 100
        },
        {
          "output_type": "display_data",
          "data": {
            "image/png": "[encoded data removed]",
            "text/plain": [
              "<Figure size 432x288 with 1 Axes>"
            ]
          },
          "metadata": {
            "tags": [],
            "needs_background": "light"
          }
        }
      ]
    },
    {
      "cell_type": "code",
      "metadata": {
        "id": "UUoUEIBTkXUB",
        "colab_type": "code",
        "colab": {
          "base_uri": "https://localhost:8080/",
          "height": 34
        },
        "outputId": "533d8b62-4e6a-41fe-feb1-bb3eca923e6a"
      },
      "source": [
        "my_img = my_img.reshape(1,32,32,3)\n",
        "print(mapping_dict[model.predict_classes(my_img)[0]])"
      ],
      "execution_count": 101,
      "outputs": [
        {
          "output_type": "stream",
          "text": [
            "frog\n"
          ],
          "name": "stdout"
        }
      ]
    },
    {
      "cell_type": "code",
      "metadata": {
        "id": "UDTvhP-4kmRl",
        "colab_type": "code",
        "colab": {
          "base_uri": "https://localhost:8080/",
          "height": 104
        },
        "outputId": "71ad6cb2-3717-43c0-f220-0988dff0105c"
      },
      "source": [
        "model.save('cifar10_70')"
      ],
      "execution_count": 103,
      "outputs": [
        {
          "output_type": "stream",
          "text": [
            "WARNING:tensorflow:From /usr/local/lib/python3.6/dist-packages/tensorflow/python/ops/resource_variable_ops.py:1817: calling BaseResourceVariable.__init__ (from tensorflow.python.ops.resource_variable_ops) with constraint is deprecated and will be removed in a future version.\n",
            "Instructions for updating:\n",
            "If using Keras pass *_constraint arguments to layers.\n",
            "INFO:tensorflow:Assets written to: cifar10_70/assets\n"
          ],
          "name": "stdout"
        }
      ]
    },
    {
      "cell_type": "code",
      "metadata": {
        "id": "axmzVL6YkyJm",
        "colab_type": "code",
        "colab": {}
      },
      "source": [
        ""
      ],
      "execution_count": 0,
      "outputs": []
    }
  ]
}