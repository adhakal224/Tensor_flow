{
 "cells": [
  {
   "cell_type": "code",
   "execution_count": 59,
   "metadata": {},
   "outputs": [],
   "source": [
    "import os\n",
    "import numpy as np\n",
    "from matplotlib.image import imread\n",
    "import matplotlib.pyplot as mplot\n",
    "import tensorflow as tf\n",
    "from tensorflow.keras.preprocessing.image import load_img, img_to_array\n",
    "\n",
    "#loads the monet images and regular images as numpy array and returns them as attributes of the file_load object\n",
    "class file_load(object):\n",
    "    \n",
    "    def __init__(self):\n",
    "        self.start = True\n",
    "    \n",
    "    \n",
    "    def load_images(self, path, size=(256,256)):\n",
    "        X_images = []\n",
    "        for image in os.listdir(path):\n",
    "            new_img = load_img(path + image, target_size=size)\n",
    "            img_array = img_to_array(new_img)\n",
    "            X_images.append(img_array)\n",
    "        X_images = np.asarray(X_images)/255\n",
    "        return X_images\n",
    "    \n",
    "    def get_img(self, path):\n",
    "        with tf.device('/CPU:0'):\n",
    "            img_array = self.load_images(path, (256,256))\n",
    "            return img_array\n"
   ]
  },
  {
   "cell_type": "code",
   "execution_count": null,
   "metadata": {},
   "outputs": [],
   "source": []
  }
 ],
 "metadata": {
  "kernelspec": {
   "display_name": "gpu_env",
   "language": "python",
   "name": "gpu_env"
  },
  "language_info": {
   "codemirror_mode": {
    "name": "ipython",
    "version": 3
   },
   "file_extension": ".py",
   "mimetype": "text/x-python",
   "name": "python",
   "nbconvert_exporter": "python",
   "pygments_lexer": "ipython3",
   "version": "3.7.7"
  }
 },
 "nbformat": 4,
 "nbformat_minor": 4
}
