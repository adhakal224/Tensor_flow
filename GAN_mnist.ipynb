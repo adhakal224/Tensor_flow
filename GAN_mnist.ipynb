{
 "cells": [
  {
   "cell_type": "code",
   "execution_count": 34,
   "metadata": {},
   "outputs": [],
   "source": [
    "import numpy as np\n",
    "import matplotlib.pyplot as mplot\n",
    "import pandas as pd"
   ]
  },
  {
   "cell_type": "code",
   "execution_count": 35,
   "metadata": {},
   "outputs": [],
   "source": [
    "from tensorflow.keras.datasets import mnist"
   ]
  },
  {
   "cell_type": "code",
   "execution_count": 36,
   "metadata": {},
   "outputs": [],
   "source": [
    "import tensorflow as tf"
   ]
  },
  {
   "cell_type": "code",
   "execution_count": 37,
   "metadata": {},
   "outputs": [
    {
     "name": "stdout",
     "output_type": "stream",
     "text": [
      "1 Physical GPUs, 1 Logical GPUs\n"
     ]
    }
   ],
   "source": [
    "gpus = tf.config.experimental.list_physical_devices('GPU')\n",
    "if gpus:\n",
    "  try:\n",
    "    # Currently, memory growth needs to be the same across GPUs\n",
    "    for gpu in gpus:\n",
    "      tf.config.experimental.set_memory_growth(gpu, True)\n",
    "    logical_gpus = tf.config.experimental.list_logical_devices('GPU')\n",
    "    print(len(gpus), \"Physical GPUs,\", len(logical_gpus), \"Logical GPUs\")\n",
    "  except RuntimeError as e:\n",
    "    # Memory growth must be set before GPUs have been initialized\n",
    "    print(e)"
   ]
  },
  {
   "cell_type": "code",
   "execution_count": 38,
   "metadata": {},
   "outputs": [],
   "source": [
    "(X_train, y_train), (X_test, y_test) = mnist.load_data()"
   ]
  },
  {
   "cell_type": "code",
   "execution_count": 40,
   "metadata": {},
   "outputs": [
    {
     "data": {
      "text/plain": [
       "array([5, 0, 4, ..., 5, 6, 8], dtype=uint8)"
      ]
     },
     "execution_count": 40,
     "metadata": {},
     "output_type": "execute_result"
    }
   ],
   "source": [
    "y_train"
   ]
  },
  {
   "cell_type": "code",
   "execution_count": 41,
   "metadata": {},
   "outputs": [],
   "source": [
    "only_seven = X_train[y_train==7]"
   ]
  },
  {
   "cell_type": "code",
   "execution_count": 66,
   "metadata": {},
   "outputs": [
    {
     "data": {
      "text/plain": [
       "<matplotlib.image.AxesImage at 0x1ab480aeb48>"
      ]
     },
     "execution_count": 66,
     "metadata": {},
     "output_type": "execute_result"
    },
    {
     "data": {
      "image/png": "[encoded data removed]",
      "text/plain": [
       "<Figure size 432x288 with 1 Axes>"
      ]
     },
     "metadata": {
      "needs_background": "light"
     },
     "output_type": "display_data"
    }
   ],
   "source": [
    "mplot.imshow(only_seven[20])"
   ]
  },
  {
   "cell_type": "code",
   "execution_count": 43,
   "metadata": {},
   "outputs": [],
   "source": [
    "from tensorflow.keras.models import Model\n",
    "from tensorflow.keras.layers import Conv2D, MaxPooling2D, Dense, Reshape, Flatten, Input"
   ]
  },
  {
   "cell_type": "code",
   "execution_count": 44,
   "metadata": {},
   "outputs": [],
   "source": [
    "codings_size = 100\n",
    "input_layer = Input(shape=(codings_size,))\n",
    "X = Dense(100, activation='relu', name='gen1')(input_layer)\n",
    "X = Dense(150, activation='relu', name='gen2')(X)\n",
    "X = Dense(784, activation='relu', name='gen3')(X)\n",
    "X = Reshape(target_shape=(28,28), name='gen_reshape')(X)\n",
    "\n",
    "generator = Model(inputs=input_layer, outputs=X, name='generator')\n"
   ]
  },
  {
   "cell_type": "code",
   "execution_count": 67,
   "metadata": {},
   "outputs": [
    {
     "name": "stdout",
     "output_type": "stream",
     "text": [
      "Model: \"generator\"\n",
      "_________________________________________________________________\n",
      "Layer (type)                 Output Shape              Param #   \n",
      "=================================================================\n",
      "input_3 (InputLayer)         [(None, 100)]             0         \n",
      "_________________________________________________________________\n",
      "gen1 (Dense)                 (None, 100)               10100     \n",
      "_________________________________________________________________\n",
      "gen2 (Dense)                 (None, 150)               15150     \n",
      "_________________________________________________________________\n",
      "gen3 (Dense)                 (None, 784)               118384    \n",
      "_________________________________________________________________\n",
      "gen_reshape (Reshape)        (None, 28, 28)            0         \n",
      "=================================================================\n",
      "Total params: 143,634\n",
      "Trainable params: 143,634\n",
      "Non-trainable params: 0\n",
      "_________________________________________________________________\n"
     ]
    }
   ],
   "source": [
    "generator.summary()"
   ]
  },
  {
   "cell_type": "code",
   "execution_count": 45,
   "metadata": {},
   "outputs": [],
   "source": [
    "input_layer2 = Input(shape=(28,28))\n",
    "x = Flatten(name='disc_flatten')(input_layer2)\n",
    "x = Dense(150, activation='relu', name='disc1')(x)\n",
    "x = Dense(100, activation='relu', name='disc2')(x)\n",
    "x = Dense(1, activation='sigmoid', name='disc3')(x)\n",
    "\n",
    "discriminator = Model(inputs=input_layer2, outputs=x, name='discriminator')\n",
    "discriminator.compile(loss='binary_crossentropy', optimizer='adam')"
   ]
  },
  {
   "cell_type": "code",
   "execution_count": 46,
   "metadata": {},
   "outputs": [
    {
     "name": "stdout",
     "output_type": "stream",
     "text": [
      "Model: \"discriminator\"\n",
      "_________________________________________________________________\n",
      "Layer (type)                 Output Shape              Param #   \n",
      "=================================================================\n",
      "input_4 (InputLayer)         [(None, 28, 28)]          0         \n",
      "_________________________________________________________________\n",
      "disc_flatten (Flatten)       (None, 784)               0         \n",
      "_________________________________________________________________\n",
      "disc1 (Dense)                (None, 150)               117750    \n",
      "_________________________________________________________________\n",
      "disc2 (Dense)                (None, 100)               15100     \n",
      "_________________________________________________________________\n",
      "disc3 (Dense)                (None, 1)                 101       \n",
      "=================================================================\n",
      "Total params: 132,951\n",
      "Trainable params: 132,951\n",
      "Non-trainable params: 0\n",
      "_________________________________________________________________\n"
     ]
    }
   ],
   "source": [
    "discriminator.summary()"
   ]
  },
  {
   "cell_type": "code",
   "execution_count": 47,
   "metadata": {},
   "outputs": [],
   "source": [
    "from tensorflow.keras.models import Sequential"
   ]
  },
  {
   "cell_type": "code",
   "execution_count": 48,
   "metadata": {},
   "outputs": [],
   "source": [
    "gan = Sequential([generator, discriminator])"
   ]
  },
  {
   "cell_type": "code",
   "execution_count": 49,
   "metadata": {},
   "outputs": [],
   "source": [
    "discriminator.trainable = False"
   ]
  },
  {
   "cell_type": "code",
   "execution_count": 50,
   "metadata": {},
   "outputs": [],
   "source": [
    "gan.compile(loss='binary_crossentropy', optimizer='adam')"
   ]
  },
  {
   "cell_type": "code",
   "execution_count": 51,
   "metadata": {},
   "outputs": [
    {
     "name": "stdout",
     "output_type": "stream",
     "text": [
      "Model: \"sequential_1\"\n",
      "_________________________________________________________________\n",
      "Layer (type)                 Output Shape              Param #   \n",
      "=================================================================\n",
      "generator (Model)            (None, 28, 28)            143634    \n",
      "_________________________________________________________________\n",
      "discriminator (Model)        (None, 1)                 132951    \n",
      "=================================================================\n",
      "Total params: 276,585\n",
      "Trainable params: 143,634\n",
      "Non-trainable params: 132,951\n",
      "_________________________________________________________________\n"
     ]
    }
   ],
   "source": [
    "gan.summary()"
   ]
  },
  {
   "cell_type": "code",
   "execution_count": 52,
   "metadata": {},
   "outputs": [],
   "source": [
    "batch_size = 32"
   ]
  },
  {
   "cell_type": "code",
   "execution_count": 53,
   "metadata": {},
   "outputs": [],
   "source": [
    "my_data = only_seven"
   ]
  },
  {
   "cell_type": "code",
   "execution_count": 54,
   "metadata": {},
   "outputs": [],
   "source": [
    "import tensorflow as tf\n",
    "dataset = tf.data.Dataset.from_tensor_slices(my_data).shuffle(buffer_size=1000)"
   ]
  },
  {
   "cell_type": "code",
   "execution_count": 55,
   "metadata": {},
   "outputs": [],
   "source": [
    "dataset = dataset.batch(batch_size, drop_remainder=True).prefetch(1)"
   ]
  },
  {
   "cell_type": "code",
   "execution_count": 56,
   "metadata": {},
   "outputs": [],
   "source": [
    "epochs = 30"
   ]
  },
  {
   "cell_type": "code",
   "execution_count": 57,
   "metadata": {},
   "outputs": [],
   "source": [
    "gen, dis = gan.layers"
   ]
  },
  {
   "cell_type": "code",
   "execution_count": 58,
   "metadata": {},
   "outputs": [
    {
     "name": "stdout",
     "output_type": "stream",
     "text": [
      "Currently on epoch 1\n",
      "\t Currently on batch 50 of 195\n",
      "\t Currently on batch 100 of 195\n",
      "\t Currently on batch 150 of 195\n",
      "Currently on epoch 2\n",
      "\t Currently on batch 50 of 195\n",
      "\t Currently on batch 100 of 195\n",
      "\t Currently on batch 150 of 195\n",
      "Currently on epoch 3\n",
      "\t Currently on batch 50 of 195\n",
      "\t Currently on batch 100 of 195\n",
      "\t Currently on batch 150 of 195\n",
      "Currently on epoch 4\n",
      "\t Currently on batch 50 of 195\n",
      "\t Currently on batch 100 of 195\n",
      "\t Currently on batch 150 of 195\n",
      "Currently on epoch 5\n",
      "\t Currently on batch 50 of 195\n",
      "\t Currently on batch 100 of 195\n",
      "\t Currently on batch 150 of 195\n",
      "Currently on epoch 6\n",
      "\t Currently on batch 50 of 195\n",
      "\t Currently on batch 100 of 195\n",
      "\t Currently on batch 150 of 195\n",
      "Currently on epoch 7\n",
      "\t Currently on batch 50 of 195\n",
      "\t Currently on batch 100 of 195\n",
      "\t Currently on batch 150 of 195\n",
      "Currently on epoch 8\n",
      "\t Currently on batch 50 of 195\n",
      "\t Currently on batch 100 of 195\n",
      "\t Currently on batch 150 of 195\n",
      "Currently on epoch 9\n",
      "\t Currently on batch 50 of 195\n",
      "\t Currently on batch 100 of 195\n",
      "\t Currently on batch 150 of 195\n",
      "Currently on epoch 10\n",
      "\t Currently on batch 50 of 195\n",
      "\t Currently on batch 100 of 195\n",
      "\t Currently on batch 150 of 195\n",
      "Currently on epoch 11\n",
      "\t Currently on batch 50 of 195\n",
      "\t Currently on batch 100 of 195\n",
      "\t Currently on batch 150 of 195\n",
      "Currently on epoch 12\n",
      "\t Currently on batch 50 of 195\n",
      "\t Currently on batch 100 of 195\n",
      "\t Currently on batch 150 of 195\n",
      "Currently on epoch 13\n",
      "\t Currently on batch 50 of 195\n",
      "\t Currently on batch 100 of 195\n",
      "\t Currently on batch 150 of 195\n",
      "Currently on epoch 14\n",
      "\t Currently on batch 50 of 195\n",
      "\t Currently on batch 100 of 195\n",
      "\t Currently on batch 150 of 195\n",
      "Currently on epoch 15\n",
      "\t Currently on batch 50 of 195\n",
      "\t Currently on batch 100 of 195\n",
      "\t Currently on batch 150 of 195\n",
      "Currently on epoch 16\n",
      "\t Currently on batch 50 of 195\n",
      "\t Currently on batch 100 of 195\n",
      "\t Currently on batch 150 of 195\n",
      "Currently on epoch 17\n",
      "\t Currently on batch 50 of 195\n",
      "\t Currently on batch 100 of 195\n",
      "\t Currently on batch 150 of 195\n",
      "Currently on epoch 18\n",
      "\t Currently on batch 50 of 195\n",
      "\t Currently on batch 100 of 195\n",
      "\t Currently on batch 150 of 195\n",
      "Currently on epoch 19\n",
      "\t Currently on batch 50 of 195\n",
      "\t Currently on batch 100 of 195\n",
      "\t Currently on batch 150 of 195\n",
      "Currently on epoch 20\n",
      "\t Currently on batch 50 of 195\n",
      "\t Currently on batch 100 of 195\n",
      "\t Currently on batch 150 of 195\n",
      "Currently on epoch 21\n",
      "\t Currently on batch 50 of 195\n",
      "\t Currently on batch 100 of 195\n",
      "\t Currently on batch 150 of 195\n",
      "Currently on epoch 22\n",
      "\t Currently on batch 50 of 195\n",
      "\t Currently on batch 100 of 195\n",
      "\t Currently on batch 150 of 195\n",
      "Currently on epoch 23\n",
      "\t Currently on batch 50 of 195\n",
      "\t Currently on batch 100 of 195\n",
      "\t Currently on batch 150 of 195\n",
      "Currently on epoch 24\n",
      "\t Currently on batch 50 of 195\n",
      "\t Currently on batch 100 of 195\n",
      "\t Currently on batch 150 of 195\n",
      "Currently on epoch 25\n",
      "\t Currently on batch 50 of 195\n",
      "\t Currently on batch 100 of 195\n",
      "\t Currently on batch 150 of 195\n",
      "Currently on epoch 26\n",
      "\t Currently on batch 50 of 195\n",
      "\t Currently on batch 100 of 195\n",
      "\t Currently on batch 150 of 195\n",
      "Currently on epoch 27\n",
      "\t Currently on batch 50 of 195\n",
      "\t Currently on batch 100 of 195\n",
      "\t Currently on batch 150 of 195\n",
      "Currently on epoch 28\n",
      "\t Currently on batch 50 of 195\n",
      "\t Currently on batch 100 of 195\n",
      "\t Currently on batch 150 of 195\n",
      "Currently on epoch 29\n",
      "\t Currently on batch 50 of 195\n",
      "\t Currently on batch 100 of 195\n",
      "\t Currently on batch 150 of 195\n",
      "Currently on epoch 30\n",
      "\t Currently on batch 50 of 195\n",
      "\t Currently on batch 100 of 195\n",
      "\t Currently on batch 150 of 195\n"
     ]
    }
   ],
   "source": [
    "for epoch in range(epochs):\n",
    "    print(f\"Currently on epoch {epoch+1}\")\n",
    "    i = 0\n",
    "    \n",
    "    for X_batch in dataset:\n",
    "        i = i + 1\n",
    "        if i%50 ==0:\n",
    "            print(f\"\\t Currently on batch {i} of {len(my_data)//batch_size}\")\n",
    "    \n",
    "        #Discriminator Training Phase\n",
    "        noise = tf.random.normal(shape=[batch_size, codings_size])\n",
    "        gen_images = generator(noise)\n",
    "        X_fake_vs_real = tf.concat([gen_images, tf.dtypes.cast(X_batch, tf.float32)], axis=0)\n",
    "        y1 = tf.constant([[0.0]]*batch_size+ [[1.0]]*batch_size)\n",
    "        discriminator.trainable= True\n",
    "        discriminator.train_on_batch(X_fake_vs_real, y1)\n",
    "        \n",
    "        #Generator Training Phase\n",
    "        noise = tf.random.normal(shape=[batch_size, codings_size])\n",
    "        y2 = tf.constant([[1.0]]*batch_size)\n",
    "        discriminator.trainable = False\n",
    "        gan.train_on_batch(noise, y2)\n",
    "            "
   ]
  },
  {
   "cell_type": "code",
   "execution_count": 59,
   "metadata": {},
   "outputs": [],
   "source": [
    "test_set = tf.random.normal(shape=[10,codings_size])\n",
    "gen_images = generator(test_set)\n"
   ]
  },
  {
   "cell_type": "code",
   "execution_count": 77,
   "metadata": {},
   "outputs": [
    {
     "data": {
      "image/png": "[encoded data removed]",
      "text/plain": [
       "<Figure size 432x288 with 1 Axes>"
      ]
     },
     "metadata": {
      "needs_background": "light"
     },
     "output_type": "display_data"
    },
    {
     "data": {
      "image/png": "[encoded data removed]",
      "text/plain": [
       "<Figure size 432x288 with 1 Axes>"
      ]
     },
     "metadata": {
      "needs_background": "light"
     },
     "output_type": "display_data"
    },
    {
     "data": {
      "image/png": "[encoded data removed]",
      "text/plain": [
       "<Figure size 432x288 with 1 Axes>"
      ]
     },
     "metadata": {
      "needs_background": "light"
     },
     "output_type": "display_data"
    }
   ],
   "source": [
    "test_img = tf.random.normal(shape=[3,codings_size])\n",
    "new_img = generator(test_img)\n",
    "for img in new_img:\n",
    "    mplot.imshow(img)\n",
    "    mplot.show()"
   ]
  },
  {
   "cell_type": "code",
   "execution_count": 61,
   "metadata": {},
   "outputs": [
    {
     "data": {
      "image/png": "[encoded data removed]",
      "text/plain": [
       "<Figure size 432x288 with 1 Axes>"
      ]
     },
     "metadata": {
      "needs_background": "light"
     },
     "output_type": "display_data"
    },
    {
     "data": {
      "image/png": "[encoded data removed]",
      "text/plain": [
       "<Figure size 432x288 with 1 Axes>"
      ]
     },
     "metadata": {
      "needs_background": "light"
     },
     "output_type": "display_data"
    },
    {
     "data": {
      "image/png": "[encoded data removed]",
      "text/plain": [
       "<Figure size 432x288 with 1 Axes>"
      ]
     },
     "metadata": {
      "needs_background": "light"
     },
     "output_type": "display_data"
    },
    {
     "data": {
      "image/png": "[encoded data removed]",
      "text/plain": [
       "<Figure size 432x288 with 1 Axes>"
      ]
     },
     "metadata": {
      "needs_background": "light"
     },
     "output_type": "display_data"
    },
    {
     "data": {
      "image/png": "[encoded data removed]",
      "text/plain": [
       "<Figure size 432x288 with 1 Axes>"
      ]
     },
     "metadata": {
      "needs_background": "light"
     },
     "output_type": "display_data"
    },
    {
     "data": {
      "image/png": "[encoded data removed]",
      "text/plain": [
       "<Figure size 432x288 with 1 Axes>"
      ]
     },
     "metadata": {
      "needs_background": "light"
     },
     "output_type": "display_data"
    },
    {
     "data": {
      "image/png": "[encoded data removed]",
      "text/plain": [
       "<Figure size 432x288 with 1 Axes>"
      ]
     },
     "metadata": {
      "needs_background": "light"
     },
     "output_type": "display_data"
    },
    {
     "data": {
      "image/png": "[encoded data removed]",
      "text/plain": [
       "<Figure size 432x288 with 1 Axes>"
      ]
     },
     "metadata": {
      "needs_background": "light"
     },
     "output_type": "display_data"
    },
    {
     "data": {
      "image/png": "[encoded data removed]",
      "text/plain": [
       "<Figure size 432x288 with 1 Axes>"
      ]
     },
     "metadata": {
      "needs_background": "light"
     },
     "output_type": "display_data"
    },
    {
     "data": {
      "image/png": "[encoded data removed]",
      "text/plain": [
       "<Figure size 432x288 with 1 Axes>"
      ]
     },
     "metadata": {
      "needs_background": "light"
     },
     "output_type": "display_data"
    }
   ],
   "source": [
    "for image in gen_images:\n",
    "    mplot.imshow(image)\n",
    "    mplot.show()"
   ]
  },
  {
   "cell_type": "code",
   "execution_count": null,
   "metadata": {},
   "outputs": [],
   "source": []
  }
 ],
 "metadata": {
  "kernelspec": {
   "display_name": "gpu_env",
   "language": "python",
   "name": "gpu_env"
  },
  "language_info": {
   "codemirror_mode": {
    "name": "ipython",
    "version": 3
   },
   "file_extension": ".py",
   "mimetype": "text/x-python",
   "name": "python",
   "nbconvert_exporter": "python",
   "pygments_lexer": "ipython3",
   "version": "3.7.7"
  }
 },
 "nbformat": 4,
 "nbformat_minor": 4
}
